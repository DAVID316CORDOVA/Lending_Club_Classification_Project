{
 "cells": [
  {
   "cell_type": "code",
   "execution_count": 2,
   "id": "2f12517c",
   "metadata": {},
   "outputs": [],
   "source": [
    "import pandas as pd\n",
    "import matplotlib.pyplot as plt\n",
    "import seaborn as sns\n",
    "import numpy as np"
   ]
  },
  {
   "cell_type": "code",
   "execution_count": 3,
   "id": "acb0a2e8",
   "metadata": {},
   "outputs": [],
   "source": [
    "pd.options.display.float_format=\"{:,.2f}\".format"
   ]
  },
  {
   "cell_type": "code",
   "execution_count": 7,
   "id": "a2a2908c",
   "metadata": {},
   "outputs": [
    {
     "data": {
      "text/html": [
       "<div>\n",
       "<style scoped>\n",
       "    .dataframe tbody tr th:only-of-type {\n",
       "        vertical-align: middle;\n",
       "    }\n",
       "\n",
       "    .dataframe tbody tr th {\n",
       "        vertical-align: top;\n",
       "    }\n",
       "\n",
       "    .dataframe thead th {\n",
       "        text-align: right;\n",
       "    }\n",
       "</style>\n",
       "<table border=\"1\" class=\"dataframe\">\n",
       "  <thead>\n",
       "    <tr style=\"text-align: right;\">\n",
       "      <th></th>\n",
       "      <th>loan_amnt</th>\n",
       "      <th>term</th>\n",
       "      <th>int_rate</th>\n",
       "      <th>installment</th>\n",
       "      <th>grade</th>\n",
       "      <th>sub_grade</th>\n",
       "      <th>emp_title</th>\n",
       "      <th>emp_length</th>\n",
       "      <th>home_ownership</th>\n",
       "      <th>annual_inc</th>\n",
       "      <th>...</th>\n",
       "      <th>open_acc</th>\n",
       "      <th>pub_rec</th>\n",
       "      <th>revol_bal</th>\n",
       "      <th>revol_util</th>\n",
       "      <th>total_acc</th>\n",
       "      <th>initial_list_status</th>\n",
       "      <th>application_type</th>\n",
       "      <th>mort_acc</th>\n",
       "      <th>pub_rec_bankruptcies</th>\n",
       "      <th>address</th>\n",
       "    </tr>\n",
       "  </thead>\n",
       "  <tbody>\n",
       "    <tr>\n",
       "      <th>0</th>\n",
       "      <td>10,000.00</td>\n",
       "      <td>36 months</td>\n",
       "      <td>11.44</td>\n",
       "      <td>329.48</td>\n",
       "      <td>B</td>\n",
       "      <td>B4</td>\n",
       "      <td>Marketing</td>\n",
       "      <td>10+ years</td>\n",
       "      <td>RENT</td>\n",
       "      <td>117,000.00</td>\n",
       "      <td>...</td>\n",
       "      <td>16.00</td>\n",
       "      <td>0.00</td>\n",
       "      <td>36,369.00</td>\n",
       "      <td>41.80</td>\n",
       "      <td>25.00</td>\n",
       "      <td>w</td>\n",
       "      <td>INDIVIDUAL</td>\n",
       "      <td>0.00</td>\n",
       "      <td>0.00</td>\n",
       "      <td>0174 Michelle Gateway\\r\\nMendozaberg, OK 22690</td>\n",
       "    </tr>\n",
       "    <tr>\n",
       "      <th>1</th>\n",
       "      <td>8,000.00</td>\n",
       "      <td>36 months</td>\n",
       "      <td>11.99</td>\n",
       "      <td>265.68</td>\n",
       "      <td>B</td>\n",
       "      <td>B5</td>\n",
       "      <td>Credit analyst</td>\n",
       "      <td>4 years</td>\n",
       "      <td>MORTGAGE</td>\n",
       "      <td>65,000.00</td>\n",
       "      <td>...</td>\n",
       "      <td>17.00</td>\n",
       "      <td>0.00</td>\n",
       "      <td>20,131.00</td>\n",
       "      <td>53.30</td>\n",
       "      <td>27.00</td>\n",
       "      <td>f</td>\n",
       "      <td>INDIVIDUAL</td>\n",
       "      <td>3.00</td>\n",
       "      <td>0.00</td>\n",
       "      <td>1076 Carney Fort Apt. 347\\r\\nLoganmouth, SD 05113</td>\n",
       "    </tr>\n",
       "    <tr>\n",
       "      <th>2</th>\n",
       "      <td>15,600.00</td>\n",
       "      <td>36 months</td>\n",
       "      <td>10.49</td>\n",
       "      <td>506.97</td>\n",
       "      <td>B</td>\n",
       "      <td>B3</td>\n",
       "      <td>Statistician</td>\n",
       "      <td>&lt; 1 year</td>\n",
       "      <td>RENT</td>\n",
       "      <td>43,057.00</td>\n",
       "      <td>...</td>\n",
       "      <td>13.00</td>\n",
       "      <td>0.00</td>\n",
       "      <td>11,987.00</td>\n",
       "      <td>92.20</td>\n",
       "      <td>26.00</td>\n",
       "      <td>f</td>\n",
       "      <td>INDIVIDUAL</td>\n",
       "      <td>0.00</td>\n",
       "      <td>0.00</td>\n",
       "      <td>87025 Mark Dale Apt. 269\\r\\nNew Sabrina, WV 05113</td>\n",
       "    </tr>\n",
       "    <tr>\n",
       "      <th>3</th>\n",
       "      <td>7,200.00</td>\n",
       "      <td>36 months</td>\n",
       "      <td>6.49</td>\n",
       "      <td>220.65</td>\n",
       "      <td>A</td>\n",
       "      <td>A2</td>\n",
       "      <td>Client Advocate</td>\n",
       "      <td>6 years</td>\n",
       "      <td>RENT</td>\n",
       "      <td>54,000.00</td>\n",
       "      <td>...</td>\n",
       "      <td>6.00</td>\n",
       "      <td>0.00</td>\n",
       "      <td>5,472.00</td>\n",
       "      <td>21.50</td>\n",
       "      <td>13.00</td>\n",
       "      <td>f</td>\n",
       "      <td>INDIVIDUAL</td>\n",
       "      <td>0.00</td>\n",
       "      <td>0.00</td>\n",
       "      <td>823 Reid Ford\\r\\nDelacruzside, MA 00813</td>\n",
       "    </tr>\n",
       "    <tr>\n",
       "      <th>4</th>\n",
       "      <td>24,375.00</td>\n",
       "      <td>60 months</td>\n",
       "      <td>17.27</td>\n",
       "      <td>609.33</td>\n",
       "      <td>C</td>\n",
       "      <td>C5</td>\n",
       "      <td>Destiny Management Inc.</td>\n",
       "      <td>9 years</td>\n",
       "      <td>MORTGAGE</td>\n",
       "      <td>55,000.00</td>\n",
       "      <td>...</td>\n",
       "      <td>13.00</td>\n",
       "      <td>0.00</td>\n",
       "      <td>24,584.00</td>\n",
       "      <td>69.80</td>\n",
       "      <td>43.00</td>\n",
       "      <td>f</td>\n",
       "      <td>INDIVIDUAL</td>\n",
       "      <td>1.00</td>\n",
       "      <td>0.00</td>\n",
       "      <td>679 Luna Roads\\r\\nGreggshire, VA 11650</td>\n",
       "    </tr>\n",
       "  </tbody>\n",
       "</table>\n",
       "<p>5 rows × 27 columns</p>\n",
       "</div>"
      ],
      "text/plain": [
       "   loan_amnt        term  int_rate  installment grade sub_grade  \\\n",
       "0  10,000.00   36 months     11.44       329.48     B        B4   \n",
       "1   8,000.00   36 months     11.99       265.68     B        B5   \n",
       "2  15,600.00   36 months     10.49       506.97     B        B3   \n",
       "3   7,200.00   36 months      6.49       220.65     A        A2   \n",
       "4  24,375.00   60 months     17.27       609.33     C        C5   \n",
       "\n",
       "                 emp_title emp_length home_ownership  annual_inc  ...  \\\n",
       "0                Marketing  10+ years           RENT  117,000.00  ...   \n",
       "1          Credit analyst     4 years       MORTGAGE   65,000.00  ...   \n",
       "2             Statistician   < 1 year           RENT   43,057.00  ...   \n",
       "3          Client Advocate    6 years           RENT   54,000.00  ...   \n",
       "4  Destiny Management Inc.    9 years       MORTGAGE   55,000.00  ...   \n",
       "\n",
       "  open_acc pub_rec revol_bal revol_util total_acc  initial_list_status  \\\n",
       "0    16.00    0.00 36,369.00      41.80     25.00                    w   \n",
       "1    17.00    0.00 20,131.00      53.30     27.00                    f   \n",
       "2    13.00    0.00 11,987.00      92.20     26.00                    f   \n",
       "3     6.00    0.00  5,472.00      21.50     13.00                    f   \n",
       "4    13.00    0.00 24,584.00      69.80     43.00                    f   \n",
       "\n",
       "  application_type  mort_acc  pub_rec_bankruptcies  \\\n",
       "0       INDIVIDUAL      0.00                  0.00   \n",
       "1       INDIVIDUAL      3.00                  0.00   \n",
       "2       INDIVIDUAL      0.00                  0.00   \n",
       "3       INDIVIDUAL      0.00                  0.00   \n",
       "4       INDIVIDUAL      1.00                  0.00   \n",
       "\n",
       "                                             address  \n",
       "0     0174 Michelle Gateway\\r\\nMendozaberg, OK 22690  \n",
       "1  1076 Carney Fort Apt. 347\\r\\nLoganmouth, SD 05113  \n",
       "2  87025 Mark Dale Apt. 269\\r\\nNew Sabrina, WV 05113  \n",
       "3            823 Reid Ford\\r\\nDelacruzside, MA 00813  \n",
       "4             679 Luna Roads\\r\\nGreggshire, VA 11650  \n",
       "\n",
       "[5 rows x 27 columns]"
      ]
     },
     "execution_count": 7,
     "metadata": {},
     "output_type": "execute_result"
    }
   ],
   "source": [
    "df=pd.read_csv(\"lending_club_loan_two.csv\")\n",
    "df.head()"
   ]
  },
  {
   "cell_type": "code",
   "execution_count": 8,
   "id": "f96849b5",
   "metadata": {},
   "outputs": [
    {
     "name": "stdout",
     "output_type": "stream",
     "text": [
      "<class 'pandas.core.frame.DataFrame'>\n",
      "RangeIndex: 396030 entries, 0 to 396029\n",
      "Data columns (total 27 columns):\n",
      " #   Column                Non-Null Count   Dtype  \n",
      "---  ------                --------------   -----  \n",
      " 0   loan_amnt             396030 non-null  float64\n",
      " 1   term                  396030 non-null  object \n",
      " 2   int_rate              396030 non-null  float64\n",
      " 3   installment           396030 non-null  float64\n",
      " 4   grade                 396030 non-null  object \n",
      " 5   sub_grade             396030 non-null  object \n",
      " 6   emp_title             373103 non-null  object \n",
      " 7   emp_length            377729 non-null  object \n",
      " 8   home_ownership        396030 non-null  object \n",
      " 9   annual_inc            396030 non-null  float64\n",
      " 10  verification_status   396030 non-null  object \n",
      " 11  issue_d               396030 non-null  object \n",
      " 12  loan_status           396030 non-null  object \n",
      " 13  purpose               396030 non-null  object \n",
      " 14  title                 394275 non-null  object \n",
      " 15  dti                   396030 non-null  float64\n",
      " 16  earliest_cr_line      396030 non-null  object \n",
      " 17  open_acc              396030 non-null  float64\n",
      " 18  pub_rec               396030 non-null  float64\n",
      " 19  revol_bal             396030 non-null  float64\n",
      " 20  revol_util            395754 non-null  float64\n",
      " 21  total_acc             396030 non-null  float64\n",
      " 22  initial_list_status   396030 non-null  object \n",
      " 23  application_type      396030 non-null  object \n",
      " 24  mort_acc              358235 non-null  float64\n",
      " 25  pub_rec_bankruptcies  395495 non-null  float64\n",
      " 26  address               396030 non-null  object \n",
      "dtypes: float64(12), object(15)\n",
      "memory usage: 81.6+ MB\n"
     ]
    }
   ],
   "source": [
    "df.info()"
   ]
  },
  {
   "cell_type": "code",
   "execution_count": 9,
   "id": "08b9e7a5",
   "metadata": {},
   "outputs": [
    {
     "data": {
      "text/html": [
       "<div>\n",
       "<style scoped>\n",
       "    .dataframe tbody tr th:only-of-type {\n",
       "        vertical-align: middle;\n",
       "    }\n",
       "\n",
       "    .dataframe tbody tr th {\n",
       "        vertical-align: top;\n",
       "    }\n",
       "\n",
       "    .dataframe thead th {\n",
       "        text-align: right;\n",
       "    }\n",
       "</style>\n",
       "<table border=\"1\" class=\"dataframe\">\n",
       "  <thead>\n",
       "    <tr style=\"text-align: right;\">\n",
       "      <th></th>\n",
       "      <th>count</th>\n",
       "      <th>mean</th>\n",
       "      <th>std</th>\n",
       "      <th>min</th>\n",
       "      <th>25%</th>\n",
       "      <th>50%</th>\n",
       "      <th>75%</th>\n",
       "      <th>max</th>\n",
       "    </tr>\n",
       "  </thead>\n",
       "  <tbody>\n",
       "    <tr>\n",
       "      <th>loan_amnt</th>\n",
       "      <td>396,030.00</td>\n",
       "      <td>14,113.89</td>\n",
       "      <td>8,357.44</td>\n",
       "      <td>500.00</td>\n",
       "      <td>8,000.00</td>\n",
       "      <td>12,000.00</td>\n",
       "      <td>20,000.00</td>\n",
       "      <td>40,000.00</td>\n",
       "    </tr>\n",
       "    <tr>\n",
       "      <th>int_rate</th>\n",
       "      <td>396,030.00</td>\n",
       "      <td>13.64</td>\n",
       "      <td>4.47</td>\n",
       "      <td>5.32</td>\n",
       "      <td>10.49</td>\n",
       "      <td>13.33</td>\n",
       "      <td>16.49</td>\n",
       "      <td>30.99</td>\n",
       "    </tr>\n",
       "    <tr>\n",
       "      <th>installment</th>\n",
       "      <td>396,030.00</td>\n",
       "      <td>431.85</td>\n",
       "      <td>250.73</td>\n",
       "      <td>16.08</td>\n",
       "      <td>250.33</td>\n",
       "      <td>375.43</td>\n",
       "      <td>567.30</td>\n",
       "      <td>1,533.81</td>\n",
       "    </tr>\n",
       "    <tr>\n",
       "      <th>annual_inc</th>\n",
       "      <td>396,030.00</td>\n",
       "      <td>74,203.18</td>\n",
       "      <td>61,637.62</td>\n",
       "      <td>0.00</td>\n",
       "      <td>45,000.00</td>\n",
       "      <td>64,000.00</td>\n",
       "      <td>90,000.00</td>\n",
       "      <td>8,706,582.00</td>\n",
       "    </tr>\n",
       "    <tr>\n",
       "      <th>dti</th>\n",
       "      <td>396,030.00</td>\n",
       "      <td>17.38</td>\n",
       "      <td>18.02</td>\n",
       "      <td>0.00</td>\n",
       "      <td>11.28</td>\n",
       "      <td>16.91</td>\n",
       "      <td>22.98</td>\n",
       "      <td>9,999.00</td>\n",
       "    </tr>\n",
       "    <tr>\n",
       "      <th>open_acc</th>\n",
       "      <td>396,030.00</td>\n",
       "      <td>11.31</td>\n",
       "      <td>5.14</td>\n",
       "      <td>0.00</td>\n",
       "      <td>8.00</td>\n",
       "      <td>10.00</td>\n",
       "      <td>14.00</td>\n",
       "      <td>90.00</td>\n",
       "    </tr>\n",
       "    <tr>\n",
       "      <th>pub_rec</th>\n",
       "      <td>396,030.00</td>\n",
       "      <td>0.18</td>\n",
       "      <td>0.53</td>\n",
       "      <td>0.00</td>\n",
       "      <td>0.00</td>\n",
       "      <td>0.00</td>\n",
       "      <td>0.00</td>\n",
       "      <td>86.00</td>\n",
       "    </tr>\n",
       "    <tr>\n",
       "      <th>revol_bal</th>\n",
       "      <td>396,030.00</td>\n",
       "      <td>15,844.54</td>\n",
       "      <td>20,591.84</td>\n",
       "      <td>0.00</td>\n",
       "      <td>6,025.00</td>\n",
       "      <td>11,181.00</td>\n",
       "      <td>19,620.00</td>\n",
       "      <td>1,743,266.00</td>\n",
       "    </tr>\n",
       "    <tr>\n",
       "      <th>revol_util</th>\n",
       "      <td>395,754.00</td>\n",
       "      <td>53.79</td>\n",
       "      <td>24.45</td>\n",
       "      <td>0.00</td>\n",
       "      <td>35.80</td>\n",
       "      <td>54.80</td>\n",
       "      <td>72.90</td>\n",
       "      <td>892.30</td>\n",
       "    </tr>\n",
       "    <tr>\n",
       "      <th>total_acc</th>\n",
       "      <td>396,030.00</td>\n",
       "      <td>25.41</td>\n",
       "      <td>11.89</td>\n",
       "      <td>2.00</td>\n",
       "      <td>17.00</td>\n",
       "      <td>24.00</td>\n",
       "      <td>32.00</td>\n",
       "      <td>151.00</td>\n",
       "    </tr>\n",
       "    <tr>\n",
       "      <th>mort_acc</th>\n",
       "      <td>358,235.00</td>\n",
       "      <td>1.81</td>\n",
       "      <td>2.15</td>\n",
       "      <td>0.00</td>\n",
       "      <td>0.00</td>\n",
       "      <td>1.00</td>\n",
       "      <td>3.00</td>\n",
       "      <td>34.00</td>\n",
       "    </tr>\n",
       "    <tr>\n",
       "      <th>pub_rec_bankruptcies</th>\n",
       "      <td>395,495.00</td>\n",
       "      <td>0.12</td>\n",
       "      <td>0.36</td>\n",
       "      <td>0.00</td>\n",
       "      <td>0.00</td>\n",
       "      <td>0.00</td>\n",
       "      <td>0.00</td>\n",
       "      <td>8.00</td>\n",
       "    </tr>\n",
       "  </tbody>\n",
       "</table>\n",
       "</div>"
      ],
      "text/plain": [
       "                          count      mean       std    min       25%  \\\n",
       "loan_amnt            396,030.00 14,113.89  8,357.44 500.00  8,000.00   \n",
       "int_rate             396,030.00     13.64      4.47   5.32     10.49   \n",
       "installment          396,030.00    431.85    250.73  16.08    250.33   \n",
       "annual_inc           396,030.00 74,203.18 61,637.62   0.00 45,000.00   \n",
       "dti                  396,030.00     17.38     18.02   0.00     11.28   \n",
       "open_acc             396,030.00     11.31      5.14   0.00      8.00   \n",
       "pub_rec              396,030.00      0.18      0.53   0.00      0.00   \n",
       "revol_bal            396,030.00 15,844.54 20,591.84   0.00  6,025.00   \n",
       "revol_util           395,754.00     53.79     24.45   0.00     35.80   \n",
       "total_acc            396,030.00     25.41     11.89   2.00     17.00   \n",
       "mort_acc             358,235.00      1.81      2.15   0.00      0.00   \n",
       "pub_rec_bankruptcies 395,495.00      0.12      0.36   0.00      0.00   \n",
       "\n",
       "                           50%       75%          max  \n",
       "loan_amnt            12,000.00 20,000.00    40,000.00  \n",
       "int_rate                 13.33     16.49        30.99  \n",
       "installment             375.43    567.30     1,533.81  \n",
       "annual_inc           64,000.00 90,000.00 8,706,582.00  \n",
       "dti                      16.91     22.98     9,999.00  \n",
       "open_acc                 10.00     14.00        90.00  \n",
       "pub_rec                   0.00      0.00        86.00  \n",
       "revol_bal            11,181.00 19,620.00 1,743,266.00  \n",
       "revol_util               54.80     72.90       892.30  \n",
       "total_acc                24.00     32.00       151.00  \n",
       "mort_acc                  1.00      3.00        34.00  \n",
       "pub_rec_bankruptcies      0.00      0.00         8.00  "
      ]
     },
     "execution_count": 9,
     "metadata": {},
     "output_type": "execute_result"
    }
   ],
   "source": [
    "df.describe().T"
   ]
  },
  {
   "cell_type": "code",
   "execution_count": 12,
   "id": "94dfee4e",
   "metadata": {},
   "outputs": [
    {
     "data": {
      "text/plain": [
       "loan_amnt              0.00\n",
       "term                   0.00\n",
       "int_rate               0.00\n",
       "installment            0.00\n",
       "grade                  0.00\n",
       "sub_grade              0.00\n",
       "emp_title              5.79\n",
       "emp_length             4.62\n",
       "home_ownership         0.00\n",
       "annual_inc             0.00\n",
       "verification_status    0.00\n",
       "issue_d                0.00\n",
       "loan_status            0.00\n",
       "purpose                0.00\n",
       "title                  0.44\n",
       "dti                    0.00\n",
       "earliest_cr_line       0.00\n",
       "open_acc               0.00\n",
       "pub_rec                0.00\n",
       "revol_bal              0.00\n",
       "revol_util             0.07\n",
       "total_acc              0.00\n",
       "initial_list_status    0.00\n",
       "application_type       0.00\n",
       "mort_acc               9.54\n",
       "pub_rec_bankruptcies   0.14\n",
       "address                0.00\n",
       "dtype: float64"
      ]
     },
     "execution_count": 12,
     "metadata": {},
     "output_type": "execute_result"
    }
   ],
   "source": [
    "#Finding if there is null values\n",
    "(df.isnull().sum()/df.shape[0])*100"
   ]
  },
  {
   "cell_type": "code",
   "execution_count": 13,
   "id": "92257d7f",
   "metadata": {},
   "outputs": [],
   "source": [
    "#There are only 03 features with a \"significant\" percentage of null values : emp_title,emp_length, mort_acc,\n",
    "#We will work with them in order to inpute the null values, the remaining features with null values will have their values dropped"
   ]
  },
  {
   "cell_type": "code",
   "execution_count": 14,
   "id": "a1ca1cfd",
   "metadata": {},
   "outputs": [
    {
     "data": {
      "text/html": [
       "<div>\n",
       "<style scoped>\n",
       "    .dataframe tbody tr th:only-of-type {\n",
       "        vertical-align: middle;\n",
       "    }\n",
       "\n",
       "    .dataframe tbody tr th {\n",
       "        vertical-align: top;\n",
       "    }\n",
       "\n",
       "    .dataframe thead th {\n",
       "        text-align: right;\n",
       "    }\n",
       "</style>\n",
       "<table border=\"1\" class=\"dataframe\">\n",
       "  <thead>\n",
       "    <tr style=\"text-align: right;\">\n",
       "      <th></th>\n",
       "      <th>emp_title</th>\n",
       "      <th>emp_length</th>\n",
       "      <th>mort_acc</th>\n",
       "    </tr>\n",
       "  </thead>\n",
       "  <tbody>\n",
       "    <tr>\n",
       "      <th>0</th>\n",
       "      <td>Marketing</td>\n",
       "      <td>10+ years</td>\n",
       "      <td>0.00</td>\n",
       "    </tr>\n",
       "    <tr>\n",
       "      <th>1</th>\n",
       "      <td>Credit analyst</td>\n",
       "      <td>4 years</td>\n",
       "      <td>3.00</td>\n",
       "    </tr>\n",
       "    <tr>\n",
       "      <th>2</th>\n",
       "      <td>Statistician</td>\n",
       "      <td>&lt; 1 year</td>\n",
       "      <td>0.00</td>\n",
       "    </tr>\n",
       "    <tr>\n",
       "      <th>3</th>\n",
       "      <td>Client Advocate</td>\n",
       "      <td>6 years</td>\n",
       "      <td>0.00</td>\n",
       "    </tr>\n",
       "    <tr>\n",
       "      <th>4</th>\n",
       "      <td>Destiny Management Inc.</td>\n",
       "      <td>9 years</td>\n",
       "      <td>1.00</td>\n",
       "    </tr>\n",
       "  </tbody>\n",
       "</table>\n",
       "</div>"
      ],
      "text/plain": [
       "                 emp_title emp_length  mort_acc\n",
       "0                Marketing  10+ years      0.00\n",
       "1          Credit analyst     4 years      3.00\n",
       "2             Statistician   < 1 year      0.00\n",
       "3          Client Advocate    6 years      0.00\n",
       "4  Destiny Management Inc.    9 years      1.00"
      ]
     },
     "execution_count": 14,
     "metadata": {},
     "output_type": "execute_result"
    }
   ],
   "source": [
    "df[[\"emp_title\",\"emp_length\",\"mort_acc\"]].head()"
   ]
  },
  {
   "cell_type": "code",
   "execution_count": 15,
   "id": "bf7b9a2b",
   "metadata": {},
   "outputs": [
    {
     "data": {
      "text/plain": [
       "emp_title      object\n",
       "emp_length     object\n",
       "mort_acc      float64\n",
       "dtype: object"
      ]
     },
     "execution_count": 15,
     "metadata": {},
     "output_type": "execute_result"
    }
   ],
   "source": [
    "df[[\"emp_title\",\"emp_length\",\"mort_acc\"]].dtypes"
   ]
  },
  {
   "cell_type": "code",
   "execution_count": 16,
   "id": "e751b87d",
   "metadata": {},
   "outputs": [
    {
     "data": {
      "text/plain": [
       "173105"
      ]
     },
     "execution_count": 16,
     "metadata": {},
     "output_type": "execute_result"
    }
   ],
   "source": [
    "#Analyzing the feature emp_title\n",
    "df[\"emp_title\"].nunique()"
   ]
  },
  {
   "cell_type": "code",
   "execution_count": 18,
   "id": "857ccf9e",
   "metadata": {},
   "outputs": [],
   "source": [
    "#Due to emp_title is a categorical feature and has more than 173 000 unique values ,is a good idea to drop this feature since it can\n",
    "#confuse or complicate the process of learning of the model\n",
    "df=df.drop(columns=[\"emp_title\"])"
   ]
  },
  {
   "cell_type": "code",
   "execution_count": 19,
   "id": "3fd5fb2c",
   "metadata": {},
   "outputs": [
    {
     "data": {
      "text/plain": [
       "11"
      ]
     },
     "execution_count": 19,
     "metadata": {},
     "output_type": "execute_result"
    }
   ],
   "source": [
    "#Analyzing the feature emp_length\n",
    "df[\"emp_length\"].nunique()"
   ]
  },
  {
   "cell_type": "code",
   "execution_count": 20,
   "id": "9c84c5a7",
   "metadata": {},
   "outputs": [
    {
     "data": {
      "text/plain": [
       "array(['10+ years', '4 years', '< 1 year', '6 years', '9 years',\n",
       "       '2 years', '3 years', '8 years', '7 years', '5 years', '1 year',\n",
       "       nan], dtype=object)"
      ]
     },
     "execution_count": 20,
     "metadata": {},
     "output_type": "execute_result"
    }
   ],
   "source": [
    "df[\"emp_length\"].unique()"
   ]
  },
  {
   "cell_type": "code",
   "execution_count": 22,
   "id": "88dda2aa",
   "metadata": {},
   "outputs": [],
   "source": [
    "#Filling the null values of the emp_length feature with the mode\n",
    "df[\"emp_length\"]=df[\"emp_length\"].fillna(df[\"emp_length\"].mode()[0])"
   ]
  },
  {
   "cell_type": "code",
   "execution_count": 23,
   "id": "a4454b06",
   "metadata": {},
   "outputs": [],
   "source": [
    "#The null values of the column mort_acc are filled with the mean of this feature\n",
    "df[\"mort_acc\"]=df[\"mort_acc\"].fillna(df[\"mort_acc\"].mean())"
   ]
  },
  {
   "cell_type": "code",
   "execution_count": 24,
   "id": "28d1b25d",
   "metadata": {},
   "outputs": [
    {
     "data": {
      "text/plain": [
       "loan_amnt              0.00\n",
       "term                   0.00\n",
       "int_rate               0.00\n",
       "installment            0.00\n",
       "grade                  0.00\n",
       "sub_grade              0.00\n",
       "emp_length             0.00\n",
       "home_ownership         0.00\n",
       "annual_inc             0.00\n",
       "verification_status    0.00\n",
       "issue_d                0.00\n",
       "loan_status            0.00\n",
       "purpose                0.00\n",
       "title                  0.44\n",
       "dti                    0.00\n",
       "earliest_cr_line       0.00\n",
       "open_acc               0.00\n",
       "pub_rec                0.00\n",
       "revol_bal              0.00\n",
       "revol_util             0.07\n",
       "total_acc              0.00\n",
       "initial_list_status    0.00\n",
       "application_type       0.00\n",
       "mort_acc               0.00\n",
       "pub_rec_bankruptcies   0.14\n",
       "address                0.00\n",
       "dtype: float64"
      ]
     },
     "execution_count": 24,
     "metadata": {},
     "output_type": "execute_result"
    }
   ],
   "source": [
    "#Finding if there is still null values in the dataframe\n",
    "(df.isnull().sum()/df.shape[0])*100"
   ]
  },
  {
   "cell_type": "code",
   "execution_count": 25,
   "id": "69e20da4",
   "metadata": {},
   "outputs": [],
   "source": [
    "#We can see that there are still null values , but the percentage of these values is very low, so in order to delete this\n",
    "#remaining null values we use the funcion dropna\n",
    "\n",
    "df=df.dropna()\n"
   ]
  },
  {
   "cell_type": "code",
   "execution_count": 26,
   "id": "304be394",
   "metadata": {},
   "outputs": [
    {
     "data": {
      "text/plain": [
       "loan_amnt              0.00\n",
       "term                   0.00\n",
       "int_rate               0.00\n",
       "installment            0.00\n",
       "grade                  0.00\n",
       "sub_grade              0.00\n",
       "emp_length             0.00\n",
       "home_ownership         0.00\n",
       "annual_inc             0.00\n",
       "verification_status    0.00\n",
       "issue_d                0.00\n",
       "loan_status            0.00\n",
       "purpose                0.00\n",
       "title                  0.00\n",
       "dti                    0.00\n",
       "earliest_cr_line       0.00\n",
       "open_acc               0.00\n",
       "pub_rec                0.00\n",
       "revol_bal              0.00\n",
       "revol_util             0.00\n",
       "total_acc              0.00\n",
       "initial_list_status    0.00\n",
       "application_type       0.00\n",
       "mort_acc               0.00\n",
       "pub_rec_bankruptcies   0.00\n",
       "address                0.00\n",
       "dtype: float64"
      ]
     },
     "execution_count": 26,
     "metadata": {},
     "output_type": "execute_result"
    }
   ],
   "source": [
    "#Finding if there is still null values in the dataframe\n",
    "(df.isnull().sum()/df.shape[0])*100"
   ]
  },
  {
   "cell_type": "code",
   "execution_count": 27,
   "id": "d977f0c5",
   "metadata": {},
   "outputs": [],
   "source": [
    "#ANALYZING THE DIFFERENT TYPE OF FEATURES"
   ]
  },
  {
   "cell_type": "code",
   "execution_count": 28,
   "id": "b118e666",
   "metadata": {},
   "outputs": [
    {
     "data": {
      "text/html": [
       "<div>\n",
       "<style scoped>\n",
       "    .dataframe tbody tr th:only-of-type {\n",
       "        vertical-align: middle;\n",
       "    }\n",
       "\n",
       "    .dataframe tbody tr th {\n",
       "        vertical-align: top;\n",
       "    }\n",
       "\n",
       "    .dataframe thead th {\n",
       "        text-align: right;\n",
       "    }\n",
       "</style>\n",
       "<table border=\"1\" class=\"dataframe\">\n",
       "  <thead>\n",
       "    <tr style=\"text-align: right;\">\n",
       "      <th></th>\n",
       "      <th>term</th>\n",
       "      <th>grade</th>\n",
       "      <th>sub_grade</th>\n",
       "      <th>emp_length</th>\n",
       "      <th>home_ownership</th>\n",
       "      <th>verification_status</th>\n",
       "      <th>issue_d</th>\n",
       "      <th>loan_status</th>\n",
       "      <th>purpose</th>\n",
       "      <th>title</th>\n",
       "      <th>earliest_cr_line</th>\n",
       "      <th>initial_list_status</th>\n",
       "      <th>application_type</th>\n",
       "      <th>address</th>\n",
       "    </tr>\n",
       "  </thead>\n",
       "  <tbody>\n",
       "    <tr>\n",
       "      <th>0</th>\n",
       "      <td>36 months</td>\n",
       "      <td>B</td>\n",
       "      <td>B4</td>\n",
       "      <td>10+ years</td>\n",
       "      <td>RENT</td>\n",
       "      <td>Not Verified</td>\n",
       "      <td>Jan-2015</td>\n",
       "      <td>Fully Paid</td>\n",
       "      <td>vacation</td>\n",
       "      <td>Vacation</td>\n",
       "      <td>Jun-1990</td>\n",
       "      <td>w</td>\n",
       "      <td>INDIVIDUAL</td>\n",
       "      <td>0174 Michelle Gateway\\r\\nMendozaberg, OK 22690</td>\n",
       "    </tr>\n",
       "    <tr>\n",
       "      <th>1</th>\n",
       "      <td>36 months</td>\n",
       "      <td>B</td>\n",
       "      <td>B5</td>\n",
       "      <td>4 years</td>\n",
       "      <td>MORTGAGE</td>\n",
       "      <td>Not Verified</td>\n",
       "      <td>Jan-2015</td>\n",
       "      <td>Fully Paid</td>\n",
       "      <td>debt_consolidation</td>\n",
       "      <td>Debt consolidation</td>\n",
       "      <td>Jul-2004</td>\n",
       "      <td>f</td>\n",
       "      <td>INDIVIDUAL</td>\n",
       "      <td>1076 Carney Fort Apt. 347\\r\\nLoganmouth, SD 05113</td>\n",
       "    </tr>\n",
       "  </tbody>\n",
       "</table>\n",
       "</div>"
      ],
      "text/plain": [
       "         term grade sub_grade emp_length home_ownership verification_status  \\\n",
       "0   36 months     B        B4  10+ years           RENT        Not Verified   \n",
       "1   36 months     B        B5    4 years       MORTGAGE        Not Verified   \n",
       "\n",
       "    issue_d loan_status             purpose               title  \\\n",
       "0  Jan-2015  Fully Paid            vacation            Vacation   \n",
       "1  Jan-2015  Fully Paid  debt_consolidation  Debt consolidation   \n",
       "\n",
       "  earliest_cr_line initial_list_status application_type  \\\n",
       "0         Jun-1990                   w       INDIVIDUAL   \n",
       "1         Jul-2004                   f       INDIVIDUAL   \n",
       "\n",
       "                                             address  \n",
       "0     0174 Michelle Gateway\\r\\nMendozaberg, OK 22690  \n",
       "1  1076 Carney Fort Apt. 347\\r\\nLoganmouth, SD 05113  "
      ]
     },
     "execution_count": 28,
     "metadata": {},
     "output_type": "execute_result"
    }
   ],
   "source": [
    "#Categorical features\n",
    "df.select_dtypes(include=\"object\").head(2)"
   ]
  },
  {
   "cell_type": "code",
   "execution_count": 29,
   "id": "14c3806e",
   "metadata": {},
   "outputs": [],
   "source": [
    "#We drop the column address for not being important to the data\n",
    "\n",
    "df=df.drop(columns=[\"address\"])"
   ]
  },
  {
   "cell_type": "code",
   "execution_count": 31,
   "id": "cfd3fbda",
   "metadata": {},
   "outputs": [
    {
     "name": "stdout",
     "output_type": "stream",
     "text": [
      "The feature term contains 2  distinct values \n",
      "The feature grade contains 7  distinct values \n",
      "The feature sub_grade contains 35  distinct values \n",
      "The feature emp_length contains 11  distinct values \n",
      "The feature home_ownership contains 6  distinct values \n",
      "The feature verification_status contains 3  distinct values \n",
      "The feature issue_d contains 112  distinct values \n",
      "The feature loan_status contains 2  distinct values \n",
      "The feature purpose contains 14  distinct values \n",
      "The feature title contains 48472  distinct values \n",
      "The feature earliest_cr_line contains 683  distinct values \n",
      "The feature initial_list_status contains 2  distinct values \n",
      "The feature application_type contains 3  distinct values \n"
     ]
    }
   ],
   "source": [
    "#Defining the categorical features and their unique values \n",
    "\n",
    "categorical=df.select_dtypes(include=\"object\").columns\n",
    "\n",
    "for line in categorical:\n",
    "    print(\"The feature \" + line + \" contains\" ,  str(len(df[line].unique())) ,\" distinct values \")"
   ]
  },
  {
   "cell_type": "code",
   "execution_count": 33,
   "id": "d9f04c8a",
   "metadata": {},
   "outputs": [],
   "source": [
    "#We drop the column title for having a big amount of unique values which can complicate the creation of the model\n",
    "\n",
    "df=df.drop(columns=[\"title\"])"
   ]
  },
  {
   "cell_type": "code",
   "execution_count": 34,
   "id": "167fb5dc",
   "metadata": {},
   "outputs": [],
   "source": [
    "#The variables issue_id & earliest_cr_line are converted to datetime\n",
    "\n",
    "df[\"issue_d\"]=pd.to_datetime(df[\"issue_d\"])\n",
    "\n",
    "df[\"earliest_cr_line\"]=pd.to_datetime(df[\"earliest_cr_line\"])"
   ]
  },
  {
   "cell_type": "code",
   "execution_count": 35,
   "id": "9dfeddc2",
   "metadata": {},
   "outputs": [],
   "source": [
    "#We extract the year and the month of de the features issue_d & earliest_cr \n",
    "\n",
    "df[\"issue_d_year\"]=df[\"issue_d\"].dt.year\n",
    "df[\"issue_d_month\"]=df[\"issue_d\"].dt.month \n",
    "\n",
    "df[\"earliest_cr_line_year\"]=df[\"earliest_cr_line\"].dt.year\n",
    "df[\"earliest_cr_line_month\"]=df[\"earliest_cr_line\"].dt.month"
   ]
  },
  {
   "cell_type": "code",
   "execution_count": 36,
   "id": "9388d2e3",
   "metadata": {},
   "outputs": [],
   "source": [
    "#Dropping the variables features issue_d & earliest_cr since we already get the month and the year\n",
    "\n",
    "df=df.drop(columns=[\"issue_d\",\"earliest_cr_line\"])"
   ]
  },
  {
   "cell_type": "code",
   "execution_count": 37,
   "id": "f28b6803",
   "metadata": {},
   "outputs": [
    {
     "data": {
      "text/plain": [
       "Index(['term', 'grade', 'sub_grade', 'emp_length', 'home_ownership',\n",
       "       'verification_status', 'loan_status', 'purpose', 'initial_list_status',\n",
       "       'application_type'],\n",
       "      dtype='object')"
      ]
     },
     "execution_count": 37,
     "metadata": {},
     "output_type": "execute_result"
    }
   ],
   "source": [
    "#We analyze one more time the remaning categorical variables\n",
    "\n",
    "categoricas2=df.select_dtypes(include=\"object\").columns\n",
    "\n",
    "categoricas2"
   ]
  },
  {
   "cell_type": "code",
   "execution_count": 38,
   "id": "39623489",
   "metadata": {},
   "outputs": [
    {
     "data": {
      "text/plain": [
       "array(['Fully Paid', 'Charged Off'], dtype=object)"
      ]
     },
     "execution_count": 38,
     "metadata": {},
     "output_type": "execute_result"
    }
   ],
   "source": [
    "#Analyzing the variable loan_status since this is our label\n",
    "\n",
    "df[\"loan_status\"].unique()"
   ]
  },
  {
   "cell_type": "code",
   "execution_count": 39,
   "id": "17a167fc",
   "metadata": {},
   "outputs": [
    {
     "data": {
      "text/plain": [
       "0    1\n",
       "1    1\n",
       "2    1\n",
       "3    1\n",
       "4    0\n",
       "Name: loan_status, dtype: int64"
      ]
     },
     "execution_count": 39,
     "metadata": {},
     "output_type": "execute_result"
    }
   ],
   "source": [
    "#We transform the categorical values of this feature in numerical values in order to train the Machine learning model\n",
    "\n",
    "df[\"loan_status\"]=df[\"loan_status\"].apply(lambda x : 1 if x=='Fully Paid' else 0)\n",
    "\n",
    "df[\"loan_status\"].head()"
   ]
  },
  {
   "cell_type": "code",
   "execution_count": 40,
   "id": "8ebaed34",
   "metadata": {},
   "outputs": [
    {
     "data": {
      "text/plain": [
       "Index(['loan_amnt', 'int_rate', 'installment', 'annual_inc', 'loan_status',\n",
       "       'dti', 'open_acc', 'pub_rec', 'revol_bal', 'revol_util', 'total_acc',\n",
       "       'mort_acc', 'pub_rec_bankruptcies', 'issue_d_year', 'issue_d_month',\n",
       "       'earliest_cr_line_year', 'earliest_cr_line_month'],\n",
       "      dtype='object')"
      ]
     },
     "execution_count": 40,
     "metadata": {},
     "output_type": "execute_result"
    }
   ],
   "source": [
    "#Before feature engineering with the remaining categorical features,we must analyze the numerical features\n",
    "\n",
    "numerical=df.select_dtypes(exclude=\"object\").columns\n",
    "\n",
    "numerical\n"
   ]
  },
  {
   "cell_type": "code",
   "execution_count": 45,
   "id": "01b80c7b",
   "metadata": {},
   "outputs": [
    {
     "data": {
      "text/plain": [
       "loan_status              1.00\n",
       "int_rate                 0.25\n",
       "revol_util               0.08\n",
       "mort_acc                 0.07\n",
       "dti                      0.06\n",
       "issue_d_year             0.06\n",
       "loan_amnt                0.06\n",
       "annual_inc               0.05\n",
       "installment              0.04\n",
       "earliest_cr_line_year    0.04\n",
       "open_acc                 0.03\n",
       "pub_rec                  0.02\n",
       "total_acc                0.02\n",
       "issue_d_month            0.02\n",
       "revol_bal                0.01\n",
       "pub_rec_bankruptcies     0.01\n",
       "earliest_cr_line_month   0.00\n",
       "Name: loan_status, dtype: float64"
      ]
     },
     "execution_count": 45,
     "metadata": {},
     "output_type": "execute_result"
    }
   ],
   "source": [
    "#Analyzing the correlation that the different numiercal values have with the label (loan status)\n",
    "#We get the abs() and sort the values in order to see easily\n",
    "df[numerical].corr()[\"loan_status\"].abs().sort_values(ascending=False)"
   ]
  },
  {
   "cell_type": "code",
   "execution_count": 46,
   "id": "6cceb407",
   "metadata": {},
   "outputs": [],
   "source": [
    "#We can see that only 01 numerical value has a strong correlation with the label feature, therefore we can work only with these and dropping the rest\n",
    "new_numerical=[\"loan_status\",\"int_rate\"]"
   ]
  },
  {
   "cell_type": "code",
   "execution_count": 47,
   "id": "b2ecb1ca",
   "metadata": {},
   "outputs": [],
   "source": [
    "#New dataset conformed only with the most important numerical features\n",
    "\n",
    "df1=df[new_numerical]"
   ]
  },
  {
   "cell_type": "code",
   "execution_count": 48,
   "id": "983d8d23",
   "metadata": {},
   "outputs": [
    {
     "data": {
      "text/plain": [
       "Index(['term', 'grade', 'sub_grade', 'emp_length', 'home_ownership',\n",
       "       'verification_status', 'purpose', 'initial_list_status',\n",
       "       'application_type'],\n",
       "      dtype='object')"
      ]
     },
     "execution_count": 48,
     "metadata": {},
     "output_type": "execute_result"
    }
   ],
   "source": [
    "#Finding the remaining categorical values in roder to apply get_dummies and create new features\n",
    "categorical3=df.select_dtypes(include=\"object\").columns\n",
    "categorical3"
   ]
  },
  {
   "cell_type": "code",
   "execution_count": 50,
   "id": "0ba378e0",
   "metadata": {},
   "outputs": [
    {
     "data": {
      "text/html": [
       "<div>\n",
       "<style scoped>\n",
       "    .dataframe tbody tr th:only-of-type {\n",
       "        vertical-align: middle;\n",
       "    }\n",
       "\n",
       "    .dataframe tbody tr th {\n",
       "        vertical-align: top;\n",
       "    }\n",
       "\n",
       "    .dataframe thead th {\n",
       "        text-align: right;\n",
       "    }\n",
       "</style>\n",
       "<table border=\"1\" class=\"dataframe\">\n",
       "  <thead>\n",
       "    <tr style=\"text-align: right;\">\n",
       "      <th></th>\n",
       "      <th>loan_status</th>\n",
       "      <th>int_rate</th>\n",
       "      <th>term_ 36 months</th>\n",
       "      <th>term_ 60 months</th>\n",
       "      <th>grade_A</th>\n",
       "      <th>grade_B</th>\n",
       "      <th>grade_C</th>\n",
       "      <th>grade_D</th>\n",
       "      <th>grade_E</th>\n",
       "      <th>grade_F</th>\n",
       "      <th>...</th>\n",
       "      <th>purpose_other</th>\n",
       "      <th>purpose_renewable_energy</th>\n",
       "      <th>purpose_small_business</th>\n",
       "      <th>purpose_vacation</th>\n",
       "      <th>purpose_wedding</th>\n",
       "      <th>initial_list_status_f</th>\n",
       "      <th>initial_list_status_w</th>\n",
       "      <th>application_type_DIRECT_PAY</th>\n",
       "      <th>application_type_INDIVIDUAL</th>\n",
       "      <th>application_type_JOINT</th>\n",
       "    </tr>\n",
       "  </thead>\n",
       "  <tbody>\n",
       "    <tr>\n",
       "      <th>0</th>\n",
       "      <td>1</td>\n",
       "      <td>11.44</td>\n",
       "      <td>1</td>\n",
       "      <td>0</td>\n",
       "      <td>0</td>\n",
       "      <td>1</td>\n",
       "      <td>0</td>\n",
       "      <td>0</td>\n",
       "      <td>0</td>\n",
       "      <td>0</td>\n",
       "      <td>...</td>\n",
       "      <td>0</td>\n",
       "      <td>0</td>\n",
       "      <td>0</td>\n",
       "      <td>1</td>\n",
       "      <td>0</td>\n",
       "      <td>0</td>\n",
       "      <td>1</td>\n",
       "      <td>0</td>\n",
       "      <td>1</td>\n",
       "      <td>0</td>\n",
       "    </tr>\n",
       "    <tr>\n",
       "      <th>1</th>\n",
       "      <td>1</td>\n",
       "      <td>11.99</td>\n",
       "      <td>1</td>\n",
       "      <td>0</td>\n",
       "      <td>0</td>\n",
       "      <td>1</td>\n",
       "      <td>0</td>\n",
       "      <td>0</td>\n",
       "      <td>0</td>\n",
       "      <td>0</td>\n",
       "      <td>...</td>\n",
       "      <td>0</td>\n",
       "      <td>0</td>\n",
       "      <td>0</td>\n",
       "      <td>0</td>\n",
       "      <td>0</td>\n",
       "      <td>1</td>\n",
       "      <td>0</td>\n",
       "      <td>0</td>\n",
       "      <td>1</td>\n",
       "      <td>0</td>\n",
       "    </tr>\n",
       "    <tr>\n",
       "      <th>2</th>\n",
       "      <td>1</td>\n",
       "      <td>10.49</td>\n",
       "      <td>1</td>\n",
       "      <td>0</td>\n",
       "      <td>0</td>\n",
       "      <td>1</td>\n",
       "      <td>0</td>\n",
       "      <td>0</td>\n",
       "      <td>0</td>\n",
       "      <td>0</td>\n",
       "      <td>...</td>\n",
       "      <td>0</td>\n",
       "      <td>0</td>\n",
       "      <td>0</td>\n",
       "      <td>0</td>\n",
       "      <td>0</td>\n",
       "      <td>1</td>\n",
       "      <td>0</td>\n",
       "      <td>0</td>\n",
       "      <td>1</td>\n",
       "      <td>0</td>\n",
       "    </tr>\n",
       "    <tr>\n",
       "      <th>3</th>\n",
       "      <td>1</td>\n",
       "      <td>6.49</td>\n",
       "      <td>1</td>\n",
       "      <td>0</td>\n",
       "      <td>1</td>\n",
       "      <td>0</td>\n",
       "      <td>0</td>\n",
       "      <td>0</td>\n",
       "      <td>0</td>\n",
       "      <td>0</td>\n",
       "      <td>...</td>\n",
       "      <td>0</td>\n",
       "      <td>0</td>\n",
       "      <td>0</td>\n",
       "      <td>0</td>\n",
       "      <td>0</td>\n",
       "      <td>1</td>\n",
       "      <td>0</td>\n",
       "      <td>0</td>\n",
       "      <td>1</td>\n",
       "      <td>0</td>\n",
       "    </tr>\n",
       "    <tr>\n",
       "      <th>4</th>\n",
       "      <td>0</td>\n",
       "      <td>17.27</td>\n",
       "      <td>0</td>\n",
       "      <td>1</td>\n",
       "      <td>0</td>\n",
       "      <td>0</td>\n",
       "      <td>1</td>\n",
       "      <td>0</td>\n",
       "      <td>0</td>\n",
       "      <td>0</td>\n",
       "      <td>...</td>\n",
       "      <td>0</td>\n",
       "      <td>0</td>\n",
       "      <td>0</td>\n",
       "      <td>0</td>\n",
       "      <td>0</td>\n",
       "      <td>1</td>\n",
       "      <td>0</td>\n",
       "      <td>0</td>\n",
       "      <td>1</td>\n",
       "      <td>0</td>\n",
       "    </tr>\n",
       "  </tbody>\n",
       "</table>\n",
       "<p>5 rows × 85 columns</p>\n",
       "</div>"
      ],
      "text/plain": [
       "   loan_status  int_rate  term_ 36 months  term_ 60 months  grade_A  grade_B  \\\n",
       "0            1     11.44                1                0        0        1   \n",
       "1            1     11.99                1                0        0        1   \n",
       "2            1     10.49                1                0        0        1   \n",
       "3            1      6.49                1                0        1        0   \n",
       "4            0     17.27                0                1        0        0   \n",
       "\n",
       "   grade_C  grade_D  grade_E  grade_F  ...  purpose_other  \\\n",
       "0        0        0        0        0  ...              0   \n",
       "1        0        0        0        0  ...              0   \n",
       "2        0        0        0        0  ...              0   \n",
       "3        0        0        0        0  ...              0   \n",
       "4        1        0        0        0  ...              0   \n",
       "\n",
       "   purpose_renewable_energy  purpose_small_business  purpose_vacation  \\\n",
       "0                         0                       0                 1   \n",
       "1                         0                       0                 0   \n",
       "2                         0                       0                 0   \n",
       "3                         0                       0                 0   \n",
       "4                         0                       0                 0   \n",
       "\n",
       "   purpose_wedding  initial_list_status_f  initial_list_status_w  \\\n",
       "0                0                      0                      1   \n",
       "1                0                      1                      0   \n",
       "2                0                      1                      0   \n",
       "3                0                      1                      0   \n",
       "4                0                      1                      0   \n",
       "\n",
       "   application_type_DIRECT_PAY  application_type_INDIVIDUAL  \\\n",
       "0                            0                            1   \n",
       "1                            0                            1   \n",
       "2                            0                            1   \n",
       "3                            0                            1   \n",
       "4                            0                            1   \n",
       "\n",
       "   application_type_JOINT  \n",
       "0                       0  \n",
       "1                       0  \n",
       "2                       0  \n",
       "3                       0  \n",
       "4                       0  \n",
       "\n",
       "[5 rows x 85 columns]"
      ]
     },
     "execution_count": 50,
     "metadata": {},
     "output_type": "execute_result"
    }
   ],
   "source": [
    "#Creating new features with the help of get_dummies\n",
    "new_features=pd.get_dummies(df[categorical3])\n",
    "\n",
    "#Joining the new features with the dataframe conformed with the most important numerical features\n",
    "df2=pd.concat([df1,new_features],axis=1)\n",
    "\n",
    "df2.head()"
   ]
  },
  {
   "cell_type": "code",
   "execution_count": 56,
   "id": "f8795879",
   "metadata": {},
   "outputs": [],
   "source": [
    "#Defining X and y\n",
    "X=df2.drop(columns=[\"loan_status\"])\n",
    "y=df2[[\"loan_status\"]]"
   ]
  },
  {
   "cell_type": "code",
   "execution_count": 57,
   "id": "dec70297",
   "metadata": {},
   "outputs": [
    {
     "data": {
      "text/plain": [
       "loan_status\n",
       "1             80.38\n",
       "0             19.62\n",
       "dtype: float64"
      ]
     },
     "execution_count": 57,
     "metadata": {},
     "output_type": "execute_result"
    }
   ],
   "source": [
    "#Finding the percentage of each class\n",
    "(y.value_counts()/y.shape[0])*100"
   ]
  },
  {
   "cell_type": "code",
   "execution_count": 58,
   "id": "29fd9aa7",
   "metadata": {},
   "outputs": [
    {
     "name": "stdout",
     "output_type": "stream",
     "text": [
      "Requirement already satisfied: imblearn in c:\\users\\david\\anaconda3\\envs\\environment\\lib\\site-packages (0.0)\n",
      "Requirement already satisfied: imbalanced-learn in c:\\users\\david\\anaconda3\\envs\\environment\\lib\\site-packages (from imblearn) (0.9.1)\n",
      "Requirement already satisfied: scikit-learn>=1.1.0 in c:\\users\\david\\anaconda3\\envs\\environment\\lib\\site-packages (from imbalanced-learn->imblearn) (1.1.1)\n",
      "Requirement already satisfied: threadpoolctl>=2.0.0 in c:\\users\\david\\anaconda3\\envs\\environment\\lib\\site-packages (from imbalanced-learn->imblearn) (2.2.0)\n",
      "Requirement already satisfied: numpy>=1.17.3 in c:\\users\\david\\anaconda3\\envs\\environment\\lib\\site-packages (from imbalanced-learn->imblearn) (1.22.3)\n",
      "Requirement already satisfied: scipy>=1.3.2 in c:\\users\\david\\anaconda3\\envs\\environment\\lib\\site-packages (from imbalanced-learn->imblearn) (1.7.3)\n",
      "Requirement already satisfied: joblib>=1.0.0 in c:\\users\\david\\anaconda3\\envs\\environment\\lib\\site-packages (from imbalanced-learn->imblearn) (1.1.0)\n"
     ]
    }
   ],
   "source": [
    "#Managing the imbalanced classes with imblearn\n",
    "!pip install imblearn"
   ]
  },
  {
   "cell_type": "code",
   "execution_count": 61,
   "id": "54e14ead",
   "metadata": {},
   "outputs": [
    {
     "data": {
      "text/plain": [
       "loan_status\n",
       "1             0.62\n",
       "0             0.38\n",
       "dtype: float64"
      ]
     },
     "execution_count": 61,
     "metadata": {},
     "output_type": "execute_result"
    }
   ],
   "source": [
    "from imblearn.combine import SMOTEENN\n",
    "\n",
    "imp=SMOTEENN(sampling_strategy=0.99)\n",
    "\n",
    "X_bal,y_bal=imp.fit_resample(X,y)\n",
    "\n",
    "#Finding out if the imbalaced data continues\n",
    "\n",
    "y_bal.value_counts()/y_bal.shape[0]"
   ]
  },
  {
   "cell_type": "code",
   "execution_count": 62,
   "id": "b94852a2",
   "metadata": {},
   "outputs": [],
   "source": [
    "#Saving the new data in order to save time in the future analysis\n",
    "\n",
    "new_data=pd.concat([X_bal,y_bal],axis=1)\n",
    "\n",
    "new_data.to_csv(\"new_data_lending_club.csv\")"
   ]
  },
  {
   "cell_type": "code",
   "execution_count": 65,
   "id": "9c76f925",
   "metadata": {},
   "outputs": [],
   "source": [
    "#Splitting the data in train and test\n",
    "\n",
    "from sklearn.model_selection import train_test_split\n",
    "\n",
    "X_train,X_test,y_train,y_test=train_test_split(X_bal,y_bal,test_size=0.3, random_state=42)"
   ]
  },
  {
   "cell_type": "code",
   "execution_count": 66,
   "id": "d9c88be3",
   "metadata": {},
   "outputs": [],
   "source": [
    "#Standardization the data\n",
    "\n",
    "from sklearn.preprocessing import StandardScaler\n",
    "\n",
    "scaler_x=StandardScaler()\n",
    "\n",
    "scaler_x.fit(X_train)\n",
    "\n",
    "X_train=pd.DataFrame(scaler_x.transform(X_train),columns=X_train.columns)\n",
    "\n",
    "X_test=pd.DataFrame(scaler_x.transform(X_test),columns=X_test.columns)"
   ]
  },
  {
   "cell_type": "code",
   "execution_count": 67,
   "id": "1d5afdd5",
   "metadata": {},
   "outputs": [],
   "source": [
    "#EVALUATING DIFFERENT MACHINE LEARNING MODELS"
   ]
  },
  {
   "cell_type": "code",
   "execution_count": 68,
   "id": "7c2caa2e",
   "metadata": {},
   "outputs": [],
   "source": [
    "#Importing the libraries\n",
    "from sklearn.linear_model import LogisticRegression\n",
    "from sklearn.discriminant_analysis import LinearDiscriminantAnalysis\n",
    "from sklearn.naive_bayes import GaussianNB\n",
    "from sklearn.svm import SVC\n",
    "from sklearn.neighbors import KNeighborsClassifier\n",
    "from sklearn.tree import DecisionTreeClassifier\n",
    "from sklearn.ensemble import RandomForestClassifier,BaggingClassifier,ExtraTreesClassifier,AdaBoostClassifier,GradientBoostingClassifier\n",
    "from sklearn.model_selection import KFold,cross_val_score\n",
    "from sklearn.preprocessing import StandardScaler"
   ]
  },
  {
   "cell_type": "code",
   "execution_count": 69,
   "id": "85d73d33",
   "metadata": {},
   "outputs": [
    {
     "name": "stdout",
     "output_type": "stream",
     "text": [
      "Logistic Regression :85.64% (0.20%)\n",
      "LDA :85.09% (0.23%)\n",
      "Naive Bayes :77.61% (0.43%)\n",
      "KNN :89.86% (0.17%)\n",
      "Decision Tree :95.04% (0.12%)\n",
      "Random Forest :96.88% (0.11%)\n",
      "Bagging Class :95.58% (0.15%)\n",
      "Extra trees :96.99% (0.11%)\n",
      "Ada Boost :81.13% (0.28%)\n",
      "Gradient Boosting :81.92% (0.19%)\n"
     ]
    }
   ],
   "source": [
    "#Preparing the models\n",
    "models=[]\n",
    "models.append((\"Logistic Regression\",LogisticRegression(solver=\"lbfgs\",max_iter=10000)))\n",
    "models.append((\"LDA\",LinearDiscriminantAnalysis()))\n",
    "models.append((\"Naive Bayes\",GaussianNB()))\n",
    "# models.append((\"SVM\",SVC(gamma=\"auto\")))\n",
    "models.append((\"KNN\",KNeighborsClassifier()))\n",
    "models.append((\"Decision Tree\",DecisionTreeClassifier()))\n",
    "models.append((\"Random Forest\",RandomForestClassifier()))\n",
    "models.append((\"Bagging Class\",BaggingClassifier()))\n",
    "models.append((\"Extra trees\",ExtraTreesClassifier()))\n",
    "models.append((\"Ada Boost\",AdaBoostClassifier()))\n",
    "models.append((\"Gradient Boosting\",GradientBoostingClassifier()))\n",
    "\n",
    "#Evaluate each model in turn\n",
    "results=[]\n",
    "names=[]\n",
    "scoring=\"accuracy\"\n",
    "scaler=StandardScaler()\n",
    "\n",
    "for name, model in models:\n",
    "  kfold=KFold(n_splits=10,shuffle=True)\n",
    "  cv_results=cross_val_score(model,X_train,y_train.values.reshape(-1,1).ravel(),cv=kfold,scoring=scoring)\n",
    "  results.append(cv_results)\n",
    "  names.append(name)\n",
    "  print(f\"{name} :{cv_results.mean()*100:,.2f}% ({cv_results.std()*100:.2f}%)\")"
   ]
  },
  {
   "cell_type": "code",
   "execution_count": 70,
   "id": "d033c1e1",
   "metadata": {},
   "outputs": [
    {
     "data": {
      "image/png": "[encoded data removed]",
      "text/plain": [
       "<Figure size 640x480 with 1 Axes>"
      ]
     },
     "metadata": {},
     "output_type": "display_data"
    }
   ],
   "source": [
    "import matplotlib.pyplot as plt\n",
    "fig=plt.figure()\n",
    "fig.suptitle(\"Comparison of the different Algorithms\")\n",
    "ax=fig.add_subplot(111)\n",
    "plt.rcParams[\"figure.figsize\"]=[4,6]\n",
    "plt.boxplot(results)\n",
    "ax.set_xticklabels(names,rotation=\"vertical\")\n",
    "plt.show()"
   ]
  },
  {
   "cell_type": "code",
   "execution_count": 71,
   "id": "8a4a5af1",
   "metadata": {},
   "outputs": [],
   "source": [
    "#Saving the scalers\n",
    "from pickle import dump\n",
    "dump(scaler_x,open(\"scaler_x.pkl\",\"wb\"))"
   ]
  },
  {
   "cell_type": "code",
   "execution_count": 72,
   "id": "82b4c9ca",
   "metadata": {},
   "outputs": [
    {
     "name": "stdout",
     "output_type": "stream",
     "text": [
      "Best : 0.876765 using the params {'max_depth': 19}\n",
      "0.835235 (0.002125) with {'max_depth': 15}\n",
      "0.843500 (0.001917) with {'max_depth': 16}\n",
      "0.854322 (0.002499) with {'max_depth': 17}\n",
      "0.866163 (0.001658) with {'max_depth': 18}\n",
      "0.876765 (0.001747) with {'max_depth': 19}\n"
     ]
    }
   ],
   "source": [
    "#Fine Tuning the best model\n",
    "\n",
    "from sklearn.model_selection import GridSearchCV\n",
    "\n",
    "import numpy as np\n",
    "\n",
    "max_depth=np.arange(15,20)\n",
    "\n",
    "parametros=dict(max_depth=max_depth)\n",
    "\n",
    "model=ExtraTreesClassifier()\n",
    "\n",
    "kfold=KFold(n_splits=5,shuffle=True)\n",
    "\n",
    "grid_result=GridSearchCV(estimator=model,param_grid=parametros,cv=kfold)\n",
    "\n",
    "grid_result.fit(X_train,(y_train.values.reshape(-1,1)).ravel())\n",
    "\n",
    "#Summarize_results\n",
    "\n",
    "print(\"Best : %f using the params %s\" % (grid_result.best_score_ , grid_result.best_params_))\n",
    "\n",
    "means=grid_result.cv_results_[\"mean_test_score\"]\n",
    "stds=grid_result.cv_results_[\"std_test_score\"]\n",
    "params=grid_result.cv_results_[\"params\"]\n",
    "\n",
    "\n",
    "for mean,stdev,param in zip(means,stds,params):\n",
    "    \n",
    "  print(\"%f (%f) with %r\" % (mean,stdev,param))"
   ]
  },
  {
   "cell_type": "code",
   "execution_count": 73,
   "id": "5890e2e5",
   "metadata": {},
   "outputs": [],
   "source": [
    "#Saving the fine_tuned model\n",
    "dump(grid_result,open(\"best_model_lending_club.pkl\",\"wb\"))"
   ]
  },
  {
   "cell_type": "code",
   "execution_count": 74,
   "id": "d035b405",
   "metadata": {},
   "outputs": [],
   "source": [
    "#Saving the scaler\n",
    "from pickle import dump\n",
    "dump(scaler_x,open(\"scaler_x.pkl\",\"wb\"))"
   ]
  },
  {
   "cell_type": "code",
   "execution_count": 106,
   "id": "f751ce8f",
   "metadata": {},
   "outputs": [
    {
     "name": "stdout",
     "output_type": "stream",
     "text": [
      "Cohen Kappa : 0.731674  \n",
      "================================================================================\n",
      "Classification Report:\n",
      "              precision    recall  f1-score   support\n",
      "\n",
      "           0       0.89      0.77      0.83     31888\n",
      "           1       0.87      0.94      0.90     52115\n",
      "\n",
      "    accuracy                           0.88     84003\n",
      "   macro avg       0.88      0.86      0.87     84003\n",
      "weighted avg       0.88      0.88      0.87     84003\n",
      "\n"
     ]
    }
   ],
   "source": [
    "#Evaluating the model using cohen_kappa and classification_report\n",
    "\n",
    "from sklearn.metrics import cohen_kappa_score,classification_report\n",
    "\n",
    "y_pred=pd.DataFrame(grid_result.predict(X_test).reshape(-1,1),columns=y_test.columns)\n",
    "\n",
    "kappa=cohen_kappa_score(y_test,y_pred)\n",
    "\n",
    "clas_rep=classification_report(y_test,y_pred)\n",
    "\n",
    "print(\"Cohen Kappa : %f  \" % (kappa))\n",
    "print(\"=\"*80)\n",
    "print(\"Classification Report:\")\n",
    "print(clas_rep)"
   ]
  },
  {
   "cell_type": "code",
   "execution_count": 82,
   "id": "9d7c6593",
   "metadata": {},
   "outputs": [
    {
     "name": "stdout",
     "output_type": "stream",
     "text": [
      "Real = 1 , Prediction = 1 \n",
      "Real = 0 , Prediction = 0 \n",
      "Real = 0 , Prediction = 0 \n",
      "Real = 1 , Prediction = 1 \n",
      "Real = 0 , Prediction = 0 \n",
      "Real = 1 , Prediction = 1 \n",
      "Real = 0 , Prediction = 1 \n",
      "Real = 0 , Prediction = 0 \n",
      "Real = 1 , Prediction = 1 \n",
      "Real = 1 , Prediction = 1 \n",
      "Real = 1 , Prediction = 1 \n",
      "Real = 1 , Prediction = 1 \n",
      "Real = 0 , Prediction = 0 \n",
      "Real = 1 , Prediction = 1 \n",
      "Real = 0 , Prediction = 0 \n",
      "Real = 0 , Prediction = 0 \n",
      "Real = 1 , Prediction = 1 \n",
      "Real = 0 , Prediction = 0 \n",
      "Real = 1 , Prediction = 1 \n",
      "Real = 1 , Prediction = 1 \n"
     ]
    }
   ],
   "source": [
    "#Proving the results\n",
    "\n",
    "for i in range(0,20):\n",
    "    \n",
    "    print(\"Real = {} , Prediction = {} \".format(y_test.values[i][0] , round(y_pred.values[i][0])) )"
   ]
  },
  {
   "cell_type": "code",
   "execution_count": 83,
   "id": "9cca88cd",
   "metadata": {},
   "outputs": [],
   "source": [
    "#Saving the columns in a dictionary in order to use them in production\n",
    "\n",
    "dictionary=dict(zip(X_bal.columns,range(X_bal.shape[1])))\n",
    "\n",
    "dump(dictionary,open(\"dictionary.pkl\",\"wb\"))"
   ]
  },
  {
   "cell_type": "code",
   "execution_count": 84,
   "id": "6378d0cf",
   "metadata": {},
   "outputs": [],
   "source": [
    "#SOLVING THE PROBLEM WITH ARTIFICIAL NEURAL NETWORKS"
   ]
  },
  {
   "cell_type": "code",
   "execution_count": 85,
   "id": "ecf8b233",
   "metadata": {},
   "outputs": [],
   "source": [
    "#Importing the libraries\n",
    "from tensorflow.keras.models import Sequential\n",
    "from tensorflow.keras.layers import Dense\n",
    "from tensorflow.keras.callbacks import EarlyStopping"
   ]
  },
  {
   "cell_type": "code",
   "execution_count": 97,
   "id": "c2e3ccca",
   "metadata": {},
   "outputs": [],
   "source": [
    "early=EarlyStopping(monitor=\"val_accuracy\", patience=10)"
   ]
  },
  {
   "cell_type": "code",
   "execution_count": 98,
   "id": "309d2d71",
   "metadata": {},
   "outputs": [
    {
     "name": "stdout",
     "output_type": "stream",
     "text": [
      "Epoch 1/200\n",
      "9801/9801 [==============================] - 17s 2ms/step - loss: 0.3469 - accuracy: 0.8490 - val_loss: 0.3216 - val_accuracy: 0.8625\n",
      "Epoch 2/200\n",
      "9801/9801 [==============================] - 17s 2ms/step - loss: 0.3189 - accuracy: 0.8613 - val_loss: 0.3147 - val_accuracy: 0.8643\n",
      "Epoch 3/200\n",
      "9801/9801 [==============================] - 16s 2ms/step - loss: 0.3086 - accuracy: 0.8669 - val_loss: 0.3138 - val_accuracy: 0.8639\n",
      "Epoch 4/200\n",
      "9801/9801 [==============================] - 16s 2ms/step - loss: 0.2998 - accuracy: 0.8717 - val_loss: 0.3022 - val_accuracy: 0.8699\n",
      "Epoch 5/200\n",
      "9801/9801 [==============================] - 17s 2ms/step - loss: 0.2913 - accuracy: 0.8753 - val_loss: 0.2997 - val_accuracy: 0.8743\n",
      "Epoch 6/200\n",
      "9801/9801 [==============================] - 17s 2ms/step - loss: 0.2825 - accuracy: 0.8800 - val_loss: 0.2953 - val_accuracy: 0.8769\n",
      "Epoch 7/200\n",
      "9801/9801 [==============================] - 16s 2ms/step - loss: 0.2741 - accuracy: 0.8840 - val_loss: 0.2878 - val_accuracy: 0.8796\n",
      "Epoch 8/200\n",
      "9801/9801 [==============================] - 16s 2ms/step - loss: 0.2675 - accuracy: 0.8861 - val_loss: 0.2866 - val_accuracy: 0.8810\n",
      "Epoch 9/200\n",
      "9801/9801 [==============================] - 16s 2ms/step - loss: 0.2605 - accuracy: 0.8894 - val_loss: 0.2819 - val_accuracy: 0.8830\n",
      "Epoch 10/200\n",
      "9801/9801 [==============================] - 16s 2ms/step - loss: 0.2534 - accuracy: 0.8927 - val_loss: 0.2763 - val_accuracy: 0.8864\n",
      "Epoch 11/200\n",
      "9801/9801 [==============================] - 17s 2ms/step - loss: 0.2482 - accuracy: 0.8953 - val_loss: 0.2765 - val_accuracy: 0.8862\n",
      "Epoch 12/200\n",
      "9801/9801 [==============================] - 16s 2ms/step - loss: 0.2428 - accuracy: 0.8977 - val_loss: 0.2720 - val_accuracy: 0.8873\n",
      "Epoch 13/200\n",
      "9801/9801 [==============================] - 16s 2ms/step - loss: 0.2366 - accuracy: 0.9002 - val_loss: 0.2728 - val_accuracy: 0.8884\n",
      "Epoch 14/200\n",
      "9801/9801 [==============================] - 16s 2ms/step - loss: 0.2327 - accuracy: 0.9021 - val_loss: 0.2703 - val_accuracy: 0.8900\n",
      "Epoch 15/200\n",
      "9801/9801 [==============================] - 16s 2ms/step - loss: 0.2280 - accuracy: 0.9041 - val_loss: 0.2750 - val_accuracy: 0.8903\n",
      "Epoch 16/200\n",
      "9801/9801 [==============================] - 16s 2ms/step - loss: 0.2232 - accuracy: 0.9057 - val_loss: 0.2687 - val_accuracy: 0.8913\n",
      "Epoch 17/200\n",
      "9801/9801 [==============================] - 16s 2ms/step - loss: 0.2197 - accuracy: 0.9079 - val_loss: 0.2656 - val_accuracy: 0.8929\n",
      "Epoch 18/200\n",
      "9801/9801 [==============================] - 16s 2ms/step - loss: 0.2156 - accuracy: 0.9092 - val_loss: 0.2759 - val_accuracy: 0.8929\n",
      "Epoch 19/200\n",
      "9801/9801 [==============================] - 16s 2ms/step - loss: 0.2127 - accuracy: 0.9108 - val_loss: 0.2772 - val_accuracy: 0.8944\n",
      "Epoch 20/200\n",
      "9801/9801 [==============================] - 16s 2ms/step - loss: 0.2089 - accuracy: 0.9122 - val_loss: 0.2689 - val_accuracy: 0.8948\n",
      "Epoch 21/200\n",
      "9801/9801 [==============================] - 16s 2ms/step - loss: 0.2059 - accuracy: 0.9132 - val_loss: 0.2708 - val_accuracy: 0.8952\n",
      "Epoch 22/200\n",
      "9801/9801 [==============================] - 17s 2ms/step - loss: 0.2034 - accuracy: 0.9145 - val_loss: 0.2807 - val_accuracy: 0.8939\n",
      "Epoch 23/200\n",
      "9801/9801 [==============================] - 18s 2ms/step - loss: 0.2000 - accuracy: 0.9164 - val_loss: 0.2660 - val_accuracy: 0.8970\n",
      "Epoch 24/200\n",
      "9801/9801 [==============================] - 17s 2ms/step - loss: 0.1984 - accuracy: 0.9170 - val_loss: 0.2657 - val_accuracy: 0.8983\n",
      "Epoch 25/200\n",
      "9801/9801 [==============================] - 17s 2ms/step - loss: 0.1952 - accuracy: 0.9184 - val_loss: 0.2683 - val_accuracy: 0.8989\n",
      "Epoch 26/200\n",
      "9801/9801 [==============================] - 18s 2ms/step - loss: 0.1925 - accuracy: 0.9191 - val_loss: 0.2798 - val_accuracy: 0.8989\n",
      "Epoch 27/200\n",
      "9801/9801 [==============================] - 18s 2ms/step - loss: 0.1907 - accuracy: 0.9204 - val_loss: 0.2731 - val_accuracy: 0.9030\n",
      "Epoch 28/200\n",
      "9801/9801 [==============================] - 18s 2ms/step - loss: 0.1892 - accuracy: 0.9208 - val_loss: 0.2662 - val_accuracy: 0.9013\n",
      "Epoch 29/200\n",
      "9801/9801 [==============================] - 17s 2ms/step - loss: 0.1863 - accuracy: 0.9222 - val_loss: 0.2691 - val_accuracy: 0.9022\n",
      "Epoch 30/200\n",
      "9801/9801 [==============================] - 16s 2ms/step - loss: 0.1842 - accuracy: 0.9234 - val_loss: 0.2680 - val_accuracy: 0.9010\n",
      "Epoch 31/200\n",
      "9801/9801 [==============================] - 16s 2ms/step - loss: 0.1825 - accuracy: 0.9238 - val_loss: 0.2843 - val_accuracy: 0.9007\n",
      "Epoch 32/200\n",
      "9801/9801 [==============================] - 17s 2ms/step - loss: 0.1860 - accuracy: 0.9240 - val_loss: 0.2787 - val_accuracy: 0.9025\n",
      "Epoch 33/200\n",
      "9801/9801 [==============================] - 16s 2ms/step - loss: 0.1789 - accuracy: 0.9251 - val_loss: 0.2806 - val_accuracy: 0.9028\n",
      "Epoch 34/200\n",
      "9801/9801 [==============================] - 18s 2ms/step - loss: 0.1776 - accuracy: 0.9261 - val_loss: 0.2663 - val_accuracy: 0.9020\n",
      "Epoch 35/200\n",
      "9801/9801 [==============================] - 17s 2ms/step - loss: 0.1761 - accuracy: 0.9266 - val_loss: 0.2905 - val_accuracy: 0.9035\n",
      "Epoch 36/200\n",
      "9801/9801 [==============================] - 17s 2ms/step - loss: 0.1747 - accuracy: 0.9265 - val_loss: 0.2823 - val_accuracy: 0.9031\n",
      "Epoch 37/200\n",
      "9801/9801 [==============================] - 17s 2ms/step - loss: 0.1731 - accuracy: 0.9271 - val_loss: 0.2929 - val_accuracy: 0.9046\n",
      "Epoch 38/200\n",
      "9801/9801 [==============================] - 16s 2ms/step - loss: 0.1723 - accuracy: 0.9274 - val_loss: 0.2793 - val_accuracy: 0.9043\n",
      "Epoch 39/200\n",
      "9801/9801 [==============================] - 16s 2ms/step - loss: 0.1708 - accuracy: 0.9287 - val_loss: 0.2892 - val_accuracy: 0.9054\n",
      "Epoch 40/200\n",
      "9801/9801 [==============================] - 16s 2ms/step - loss: 0.1693 - accuracy: 0.9292 - val_loss: 0.3114 - val_accuracy: 0.9041\n",
      "Epoch 41/200\n",
      "9801/9801 [==============================] - 16s 2ms/step - loss: 0.1696 - accuracy: 0.9291 - val_loss: 0.2843 - val_accuracy: 0.9054\n",
      "Epoch 42/200\n",
      "9801/9801 [==============================] - 17s 2ms/step - loss: 0.1680 - accuracy: 0.9297 - val_loss: 0.2884 - val_accuracy: 0.9045\n",
      "Epoch 43/200\n",
      "9801/9801 [==============================] - 17s 2ms/step - loss: 0.1660 - accuracy: 0.9305 - val_loss: 0.2891 - val_accuracy: 0.9038\n",
      "Epoch 44/200\n",
      "9801/9801 [==============================] - 17s 2ms/step - loss: 0.1649 - accuracy: 0.9312 - val_loss: 0.3016 - val_accuracy: 0.9057\n",
      "Epoch 45/200\n",
      "9801/9801 [==============================] - 17s 2ms/step - loss: 0.1639 - accuracy: 0.9316 - val_loss: 0.3140 - val_accuracy: 0.9048\n",
      "Epoch 46/200\n",
      "9801/9801 [==============================] - 17s 2ms/step - loss: 0.1633 - accuracy: 0.9322 - val_loss: 0.2772 - val_accuracy: 0.9064\n",
      "Epoch 47/200\n",
      "9801/9801 [==============================] - 18s 2ms/step - loss: 0.1621 - accuracy: 0.9323 - val_loss: 0.3093 - val_accuracy: 0.9041\n",
      "Epoch 48/200\n",
      "9801/9801 [==============================] - 16s 2ms/step - loss: 0.1614 - accuracy: 0.9330 - val_loss: 0.3141 - val_accuracy: 0.9061\n",
      "Epoch 49/200\n",
      "9801/9801 [==============================] - 17s 2ms/step - loss: 0.1611 - accuracy: 0.9330 - val_loss: 0.3056 - val_accuracy: 0.9053\n",
      "Epoch 50/200\n",
      "9801/9801 [==============================] - 16s 2ms/step - loss: 0.1601 - accuracy: 0.9340 - val_loss: 0.3371 - val_accuracy: 0.9060\n",
      "Epoch 51/200\n",
      "9801/9801 [==============================] - 16s 2ms/step - loss: 0.1583 - accuracy: 0.9337 - val_loss: 0.3161 - val_accuracy: 0.9059\n",
      "Epoch 52/200\n",
      "9801/9801 [==============================] - 16s 2ms/step - loss: 0.1578 - accuracy: 0.9339 - val_loss: 0.3262 - val_accuracy: 0.9073\n",
      "Epoch 53/200\n",
      "9801/9801 [==============================] - 16s 2ms/step - loss: 0.1585 - accuracy: 0.9348 - val_loss: 0.3046 - val_accuracy: 0.9102\n",
      "Epoch 54/200\n",
      "9801/9801 [==============================] - 17s 2ms/step - loss: 0.1562 - accuracy: 0.9346 - val_loss: 0.3039 - val_accuracy: 0.9087\n",
      "Epoch 55/200\n",
      "9801/9801 [==============================] - 16s 2ms/step - loss: 0.1554 - accuracy: 0.9359 - val_loss: 0.3017 - val_accuracy: 0.9090\n",
      "Epoch 56/200\n",
      "9801/9801 [==============================] - 18s 2ms/step - loss: 0.1543 - accuracy: 0.9359 - val_loss: 0.3179 - val_accuracy: 0.9080\n"
     ]
    },
    {
     "name": "stdout",
     "output_type": "stream",
     "text": [
      "Epoch 57/200\n",
      "9801/9801 [==============================] - 18s 2ms/step - loss: 0.1549 - accuracy: 0.9362 - val_loss: 0.3087 - val_accuracy: 0.9100\n",
      "Epoch 58/200\n",
      "9801/9801 [==============================] - 17s 2ms/step - loss: 0.1529 - accuracy: 0.9366 - val_loss: 0.3061 - val_accuracy: 0.9083\n",
      "Epoch 59/200\n",
      "9801/9801 [==============================] - 17s 2ms/step - loss: 0.1533 - accuracy: 0.9366 - val_loss: 0.3222 - val_accuracy: 0.9099\n",
      "Epoch 60/200\n",
      "9801/9801 [==============================] - 16s 2ms/step - loss: 0.1521 - accuracy: 0.9368 - val_loss: 0.3249 - val_accuracy: 0.9103\n",
      "Epoch 61/200\n",
      "9801/9801 [==============================] - 15s 2ms/step - loss: 0.1605 - accuracy: 0.9371 - val_loss: 0.2742 - val_accuracy: 0.9081\n",
      "Epoch 62/200\n",
      "9801/9801 [==============================] - 16s 2ms/step - loss: 0.1497 - accuracy: 0.9374 - val_loss: 0.3078 - val_accuracy: 0.9062\n",
      "Epoch 63/200\n",
      "9801/9801 [==============================] - 16s 2ms/step - loss: 0.1583 - accuracy: 0.9371 - val_loss: 0.3238 - val_accuracy: 0.9088\n",
      "Epoch 64/200\n",
      "9801/9801 [==============================] - 17s 2ms/step - loss: 0.1489 - accuracy: 0.9378 - val_loss: 0.3348 - val_accuracy: 0.9099\n",
      "Epoch 65/200\n",
      "9801/9801 [==============================] - 16s 2ms/step - loss: 0.1490 - accuracy: 0.9380 - val_loss: 0.3188 - val_accuracy: 0.9075\n",
      "Epoch 66/200\n",
      "9801/9801 [==============================] - 16s 2ms/step - loss: 0.1493 - accuracy: 0.9381 - val_loss: 0.3214 - val_accuracy: 0.9102\n",
      "Epoch 67/200\n",
      "9801/9801 [==============================] - 16s 2ms/step - loss: 0.1477 - accuracy: 0.9384 - val_loss: 0.3409 - val_accuracy: 0.9098\n",
      "Epoch 68/200\n",
      "9801/9801 [==============================] - 17s 2ms/step - loss: 0.1476 - accuracy: 0.9396 - val_loss: 0.3231 - val_accuracy: 0.9064\n",
      "Epoch 69/200\n",
      "9801/9801 [==============================] - 16s 2ms/step - loss: 0.1480 - accuracy: 0.9390 - val_loss: 0.3279 - val_accuracy: 0.9109\n",
      "Epoch 70/200\n",
      "9801/9801 [==============================] - 17s 2ms/step - loss: 0.1463 - accuracy: 0.9394 - val_loss: 0.3904 - val_accuracy: 0.9096\n",
      "Epoch 71/200\n",
      "9801/9801 [==============================] - 16s 2ms/step - loss: 0.1456 - accuracy: 0.9398 - val_loss: 0.3483 - val_accuracy: 0.9094\n",
      "Epoch 72/200\n",
      "9801/9801 [==============================] - 17s 2ms/step - loss: 0.1459 - accuracy: 0.9396 - val_loss: 0.3598 - val_accuracy: 0.9095\n",
      "Epoch 73/200\n",
      "9801/9801 [==============================] - 17s 2ms/step - loss: 0.1443 - accuracy: 0.9404 - val_loss: 0.3425 - val_accuracy: 0.9113\n",
      "Epoch 74/200\n",
      "9801/9801 [==============================] - 17s 2ms/step - loss: 0.1443 - accuracy: 0.9405 - val_loss: 0.3452 - val_accuracy: 0.9109\n",
      "Epoch 75/200\n",
      "9801/9801 [==============================] - 18s 2ms/step - loss: 0.1475 - accuracy: 0.9411 - val_loss: 0.3609 - val_accuracy: 0.9113\n",
      "Epoch 76/200\n",
      "9801/9801 [==============================] - 17s 2ms/step - loss: 0.1444 - accuracy: 0.9410 - val_loss: 0.3394 - val_accuracy: 0.9097\n",
      "Epoch 77/200\n",
      "9801/9801 [==============================] - 16s 2ms/step - loss: 0.1443 - accuracy: 0.9411 - val_loss: 0.3848 - val_accuracy: 0.9151\n",
      "Epoch 78/200\n",
      "9801/9801 [==============================] - 15s 2ms/step - loss: 0.1453 - accuracy: 0.9415 - val_loss: 0.3718 - val_accuracy: 0.9129\n",
      "Epoch 79/200\n",
      "9801/9801 [==============================] - 17s 2ms/step - loss: 0.1430 - accuracy: 0.9413 - val_loss: 0.3713 - val_accuracy: 0.9108\n",
      "Epoch 80/200\n",
      "9801/9801 [==============================] - 18s 2ms/step - loss: 0.1429 - accuracy: 0.9418 - val_loss: 0.3729 - val_accuracy: 0.9112\n",
      "Epoch 81/200\n",
      "9801/9801 [==============================] - 16s 2ms/step - loss: 0.1426 - accuracy: 0.9413 - val_loss: 0.3494 - val_accuracy: 0.9109\n",
      "Epoch 82/200\n",
      "9801/9801 [==============================] - 16s 2ms/step - loss: 0.1423 - accuracy: 0.9414 - val_loss: 0.3771 - val_accuracy: 0.9120\n",
      "Epoch 83/200\n",
      "9801/9801 [==============================] - 16s 2ms/step - loss: 0.1417 - accuracy: 0.9419 - val_loss: 0.3654 - val_accuracy: 0.9103\n",
      "Epoch 84/200\n",
      "9801/9801 [==============================] - 17s 2ms/step - loss: 0.1416 - accuracy: 0.9427 - val_loss: 0.4199 - val_accuracy: 0.9123\n",
      "Epoch 85/200\n",
      "9801/9801 [==============================] - 17s 2ms/step - loss: 0.1429 - accuracy: 0.9413 - val_loss: 0.3610 - val_accuracy: 0.9124\n",
      "Epoch 86/200\n",
      "9801/9801 [==============================] - 16s 2ms/step - loss: 0.1414 - accuracy: 0.9423 - val_loss: 0.3772 - val_accuracy: 0.9111\n",
      "Epoch 87/200\n",
      "9801/9801 [==============================] - 18s 2ms/step - loss: 0.1439 - accuracy: 0.9424 - val_loss: 0.3530 - val_accuracy: 0.9139\n"
     ]
    }
   ],
   "source": [
    "#Creating the model\n",
    "model=Sequential()\n",
    "model.add(Dense(256,activation=\"relu\",input_dim=len(X_train.columns)))\n",
    "model.add(Dense(128,activation=\"relu\"))\n",
    "model.add(Dense(32,activation=\"relu\"))\n",
    "model.add(Dense(1,activation=\"sigmoid\"))\n",
    "model.compile(optimizer=\"adam\",metrics=\"accuracy\",loss=\"binary_crossentropy\")\n",
    "history=model.fit(X_train,y_train,epochs=200,batch_size=16,validation_split=0.2,callbacks=[early])"
   ]
  },
  {
   "cell_type": "code",
   "execution_count": 99,
   "id": "348911ce",
   "metadata": {},
   "outputs": [
    {
     "name": "stdout",
     "output_type": "stream",
     "text": [
      "2626/2626 [==============================] - 3s 1ms/step - loss: 0.3508 - accuracy: 0.9139\n"
     ]
    },
    {
     "data": {
      "text/plain": [
       "[0.35078108310699463, 0.9139078259468079]"
      ]
     },
     "execution_count": 99,
     "metadata": {},
     "output_type": "execute_result"
    }
   ],
   "source": [
    "#Evaluating the model\n",
    "model.evaluate(X_test,y_test)"
   ]
  },
  {
   "cell_type": "code",
   "execution_count": 101,
   "id": "fb2cd32d",
   "metadata": {},
   "outputs": [],
   "source": [
    "#Saving the model\n",
    "model.save(\"model_clasification_keras.h5\")"
   ]
  },
  {
   "cell_type": "code",
   "execution_count": 107,
   "id": "32815f08",
   "metadata": {},
   "outputs": [
    {
     "name": "stdout",
     "output_type": "stream",
     "text": [
      "2626/2626 [==============================] - 2s 933us/step\n",
      "Cohen Kappa : 0.815253  \n",
      "================================================================================\n",
      "Classification Report:\n",
      "              precision    recall  f1-score   support\n",
      "\n",
      "           0       0.91      0.86      0.88     31888\n",
      "           1       0.92      0.95      0.93     52115\n",
      "\n",
      "    accuracy                           0.91     84003\n",
      "   macro avg       0.91      0.90      0.91     84003\n",
      "weighted avg       0.91      0.91      0.91     84003\n",
      "\n"
     ]
    }
   ],
   "source": [
    "#Evaluating the model using cohen_kappa and classification_report\n",
    "\n",
    "from sklearn.metrics import cohen_kappa_score,classification_report\n",
    "\n",
    "y_pred=pd.DataFrame(model.predict(X_test).reshape(-1,1).round(),columns=y_test.columns)\n",
    "\n",
    "kappa=cohen_kappa_score(y_test,y_pred)\n",
    "\n",
    "clas_rep=classification_report(y_test,y_pred)\n",
    "\n",
    "print(\"Cohen Kappa : %f  \" % (kappa))\n",
    "print(\"=\"*80)\n",
    "print(\"Classification Report:\")\n",
    "print(clas_rep)"
   ]
  },
  {
   "cell_type": "code",
   "execution_count": 108,
   "id": "06b8fa36",
   "metadata": {},
   "outputs": [
    {
     "data": {
      "image/png": "[encoded data removed]",
      "text/plain": [
       "<Figure size 600x400 with 1 Axes>"
      ]
     },
     "metadata": {},
     "output_type": "display_data"
    }
   ],
   "source": [
    "import matplotlib.pyplot as plt\n",
    "%matplotlib inline\n",
    "plt.figure(figsize=(6,4))\n",
    "plt.plot(history.history[\"accuracy\"]);\n",
    "plt.plot(history.history[\"val_accuracy\"])\n",
    "plt.title(\"Accuracy of model with the set of training and validation\")\n",
    "plt.xlabel(\"Epochs\");\n",
    "plt.ylabel(\"Accuracy\");\n",
    "plt.legend([\"Training\",\"Validation\"],loc=\"lower right\");"
   ]
  },
  {
   "cell_type": "code",
   "execution_count": 105,
   "id": "1d76b8c7",
   "metadata": {},
   "outputs": [
    {
     "name": "stdout",
     "output_type": "stream",
     "text": [
      "Real = 1 , Prediction = 1 \n",
      "Real = 0 , Prediction = 0 \n",
      "Real = 0 , Prediction = 1 \n",
      "Real = 1 , Prediction = 1 \n",
      "Real = 0 , Prediction = 0 \n",
      "Real = 1 , Prediction = 1 \n",
      "Real = 0 , Prediction = 0 \n",
      "Real = 0 , Prediction = 0 \n",
      "Real = 1 , Prediction = 1 \n",
      "Real = 1 , Prediction = 1 \n",
      "Real = 1 , Prediction = 1 \n",
      "Real = 1 , Prediction = 1 \n",
      "Real = 0 , Prediction = 0 \n",
      "Real = 1 , Prediction = 1 \n",
      "Real = 0 , Prediction = 1 \n",
      "Real = 0 , Prediction = 0 \n",
      "Real = 1 , Prediction = 1 \n",
      "Real = 0 , Prediction = 0 \n",
      "Real = 1 , Prediction = 1 \n",
      "Real = 1 , Prediction = 1 \n"
     ]
    }
   ],
   "source": [
    "#Proving the results\n",
    "\n",
    "for i in range(0,20):\n",
    "    print(\"Real = {} , Prediction = {} \".format(y_test.values[i][0] , round(y_pred.values[i][0])) )"
   ]
  }
 ],
 "metadata": {
  "kernelspec": {
   "display_name": "Python 3 (ipykernel)",
   "language": "python",
   "name": "python3"
  },
  "language_info": {
   "codemirror_mode": {
    "name": "ipython",
    "version": 3
   },
   "file_extension": ".py",
   "mimetype": "text/x-python",
   "name": "python",
   "nbconvert_exporter": "python",
   "pygments_lexer": "ipython3",
   "version": "3.9.13"
  }
 },
 "nbformat": 4,
 "nbformat_minor": 5
}
